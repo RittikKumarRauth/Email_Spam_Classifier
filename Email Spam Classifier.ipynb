{
 "cells": [
  {
   "cell_type": "code",
   "execution_count": 1,
   "id": "b92adb88",
   "metadata": {},
   "outputs": [],
   "source": [
    "import numpy as np\n",
    "import pandas as pd\n",
    "import seaborn as sns\n",
    "sns.set_style(\"white\")\n",
    "import matplotlib.pyplot as plt\n",
    "from sklearn.model_selection import train_test_split\n",
    "from sklearn.feature_extraction.text import TfidfVectorizer\n",
    "from sklearn.linear_model import LogisticRegression\n",
    "from sklearn.metrics import accuracy_score"
   ]
  },
  {
   "cell_type": "markdown",
   "id": "e1f04e1e",
   "metadata": {},
   "source": [
    "# Importing dataset"
   ]
  },
  {
   "cell_type": "code",
   "execution_count": 2,
   "id": "926ab419",
   "metadata": {},
   "outputs": [],
   "source": [
    "mail_data = pd.read_csv('mail.csv')"
   ]
  },
  {
   "cell_type": "code",
   "execution_count": 3,
   "id": "18d8b177",
   "metadata": {},
   "outputs": [
    {
     "data": {
      "text/html": [
       "<div>\n",
       "<style scoped>\n",
       "    .dataframe tbody tr th:only-of-type {\n",
       "        vertical-align: middle;\n",
       "    }\n",
       "\n",
       "    .dataframe tbody tr th {\n",
       "        vertical-align: top;\n",
       "    }\n",
       "\n",
       "    .dataframe thead th {\n",
       "        text-align: right;\n",
       "    }\n",
       "</style>\n",
       "<table border=\"1\" class=\"dataframe\">\n",
       "  <thead>\n",
       "    <tr style=\"text-align: right;\">\n",
       "      <th></th>\n",
       "      <th>Category</th>\n",
       "      <th>Message</th>\n",
       "    </tr>\n",
       "  </thead>\n",
       "  <tbody>\n",
       "    <tr>\n",
       "      <th>0</th>\n",
       "      <td>ham</td>\n",
       "      <td>Go until jurong point, crazy.. Available only ...</td>\n",
       "    </tr>\n",
       "    <tr>\n",
       "      <th>1</th>\n",
       "      <td>ham</td>\n",
       "      <td>Ok lar... Joking wif u oni...</td>\n",
       "    </tr>\n",
       "    <tr>\n",
       "      <th>2</th>\n",
       "      <td>spam</td>\n",
       "      <td>Free entry in 2 a wkly comp to win FA Cup fina...</td>\n",
       "    </tr>\n",
       "    <tr>\n",
       "      <th>3</th>\n",
       "      <td>ham</td>\n",
       "      <td>U dun say so early hor... U c already then say...</td>\n",
       "    </tr>\n",
       "    <tr>\n",
       "      <th>4</th>\n",
       "      <td>ham</td>\n",
       "      <td>Nah I don't think he goes to usf, he lives aro...</td>\n",
       "    </tr>\n",
       "    <tr>\n",
       "      <th>...</th>\n",
       "      <td>...</td>\n",
       "      <td>...</td>\n",
       "    </tr>\n",
       "    <tr>\n",
       "      <th>5567</th>\n",
       "      <td>spam</td>\n",
       "      <td>This is the 2nd time we have tried 2 contact u...</td>\n",
       "    </tr>\n",
       "    <tr>\n",
       "      <th>5568</th>\n",
       "      <td>ham</td>\n",
       "      <td>Will ü b going to esplanade fr home?</td>\n",
       "    </tr>\n",
       "    <tr>\n",
       "      <th>5569</th>\n",
       "      <td>ham</td>\n",
       "      <td>Pity, * was in mood for that. So...any other s...</td>\n",
       "    </tr>\n",
       "    <tr>\n",
       "      <th>5570</th>\n",
       "      <td>ham</td>\n",
       "      <td>The guy did some bitching but I acted like i'd...</td>\n",
       "    </tr>\n",
       "    <tr>\n",
       "      <th>5571</th>\n",
       "      <td>ham</td>\n",
       "      <td>Rofl. Its true to its name</td>\n",
       "    </tr>\n",
       "  </tbody>\n",
       "</table>\n",
       "<p>5572 rows × 2 columns</p>\n",
       "</div>"
      ],
      "text/plain": [
       "     Category                                            Message\n",
       "0         ham  Go until jurong point, crazy.. Available only ...\n",
       "1         ham                      Ok lar... Joking wif u oni...\n",
       "2        spam  Free entry in 2 a wkly comp to win FA Cup fina...\n",
       "3         ham  U dun say so early hor... U c already then say...\n",
       "4         ham  Nah I don't think he goes to usf, he lives aro...\n",
       "...       ...                                                ...\n",
       "5567     spam  This is the 2nd time we have tried 2 contact u...\n",
       "5568      ham               Will ü b going to esplanade fr home?\n",
       "5569      ham  Pity, * was in mood for that. So...any other s...\n",
       "5570      ham  The guy did some bitching but I acted like i'd...\n",
       "5571      ham                         Rofl. Its true to its name\n",
       "\n",
       "[5572 rows x 2 columns]"
      ]
     },
     "execution_count": 3,
     "metadata": {},
     "output_type": "execute_result"
    }
   ],
   "source": [
    "# printing the dataset.\n",
    "mail_data"
   ]
  },
  {
   "cell_type": "code",
   "execution_count": 4,
   "id": "69cc603a",
   "metadata": {},
   "outputs": [],
   "source": [
    "# Replacing the null values.\n",
    "new_mail_data = mail_data.where((pd.notnull(mail_data)),\"\")"
   ]
  },
  {
   "cell_type": "code",
   "execution_count": 5,
   "id": "ef5c0198",
   "metadata": {},
   "outputs": [
    {
     "data": {
      "text/html": [
       "<div>\n",
       "<style scoped>\n",
       "    .dataframe tbody tr th:only-of-type {\n",
       "        vertical-align: middle;\n",
       "    }\n",
       "\n",
       "    .dataframe tbody tr th {\n",
       "        vertical-align: top;\n",
       "    }\n",
       "\n",
       "    .dataframe thead th {\n",
       "        text-align: right;\n",
       "    }\n",
       "</style>\n",
       "<table border=\"1\" class=\"dataframe\">\n",
       "  <thead>\n",
       "    <tr style=\"text-align: right;\">\n",
       "      <th></th>\n",
       "      <th>Category</th>\n",
       "      <th>Message</th>\n",
       "    </tr>\n",
       "  </thead>\n",
       "  <tbody>\n",
       "    <tr>\n",
       "      <th>0</th>\n",
       "      <td>ham</td>\n",
       "      <td>Go until jurong point, crazy.. Available only ...</td>\n",
       "    </tr>\n",
       "    <tr>\n",
       "      <th>1</th>\n",
       "      <td>ham</td>\n",
       "      <td>Ok lar... Joking wif u oni...</td>\n",
       "    </tr>\n",
       "    <tr>\n",
       "      <th>2</th>\n",
       "      <td>spam</td>\n",
       "      <td>Free entry in 2 a wkly comp to win FA Cup fina...</td>\n",
       "    </tr>\n",
       "    <tr>\n",
       "      <th>3</th>\n",
       "      <td>ham</td>\n",
       "      <td>U dun say so early hor... U c already then say...</td>\n",
       "    </tr>\n",
       "    <tr>\n",
       "      <th>4</th>\n",
       "      <td>ham</td>\n",
       "      <td>Nah I don't think he goes to usf, he lives aro...</td>\n",
       "    </tr>\n",
       "  </tbody>\n",
       "</table>\n",
       "</div>"
      ],
      "text/plain": [
       "  Category                                            Message\n",
       "0      ham  Go until jurong point, crazy.. Available only ...\n",
       "1      ham                      Ok lar... Joking wif u oni...\n",
       "2     spam  Free entry in 2 a wkly comp to win FA Cup fina...\n",
       "3      ham  U dun say so early hor... U c already then say...\n",
       "4      ham  Nah I don't think he goes to usf, he lives aro..."
      ]
     },
     "execution_count": 5,
     "metadata": {},
     "output_type": "execute_result"
    }
   ],
   "source": [
    "# Pring the 5 rows of the dataframe.\n",
    "new_mail_data.head()"
   ]
  },
  {
   "cell_type": "code",
   "execution_count": 6,
   "id": "2fe382c7",
   "metadata": {},
   "outputs": [
    {
     "data": {
      "text/plain": [
       "(5572, 2)"
      ]
     },
     "execution_count": 6,
     "metadata": {},
     "output_type": "execute_result"
    }
   ],
   "source": [
    "# Printing the rows and columns in the dataframe.\n",
    "new_mail_data.shape"
   ]
  },
  {
   "cell_type": "code",
   "execution_count": 7,
   "id": "0b893031",
   "metadata": {},
   "outputs": [
    {
     "data": {
      "text/html": [
       "<div>\n",
       "<style scoped>\n",
       "    .dataframe tbody tr th:only-of-type {\n",
       "        vertical-align: middle;\n",
       "    }\n",
       "\n",
       "    .dataframe tbody tr th {\n",
       "        vertical-align: top;\n",
       "    }\n",
       "\n",
       "    .dataframe thead th {\n",
       "        text-align: right;\n",
       "    }\n",
       "</style>\n",
       "<table border=\"1\" class=\"dataframe\">\n",
       "  <thead>\n",
       "    <tr style=\"text-align: right;\">\n",
       "      <th></th>\n",
       "      <th>Category</th>\n",
       "      <th>Message</th>\n",
       "    </tr>\n",
       "  </thead>\n",
       "  <tbody>\n",
       "    <tr>\n",
       "      <th>count</th>\n",
       "      <td>5572</td>\n",
       "      <td>5572</td>\n",
       "    </tr>\n",
       "    <tr>\n",
       "      <th>unique</th>\n",
       "      <td>2</td>\n",
       "      <td>5157</td>\n",
       "    </tr>\n",
       "    <tr>\n",
       "      <th>top</th>\n",
       "      <td>ham</td>\n",
       "      <td>Sorry, I'll call later</td>\n",
       "    </tr>\n",
       "    <tr>\n",
       "      <th>freq</th>\n",
       "      <td>4825</td>\n",
       "      <td>30</td>\n",
       "    </tr>\n",
       "  </tbody>\n",
       "</table>\n",
       "</div>"
      ],
      "text/plain": [
       "       Category                 Message\n",
       "count      5572                    5572\n",
       "unique        2                    5157\n",
       "top         ham  Sorry, I'll call later\n",
       "freq       4825                      30"
      ]
     },
     "execution_count": 7,
     "metadata": {},
     "output_type": "execute_result"
    }
   ],
   "source": [
    "# Showing dataset statistics.\n",
    "mail_data.describe()"
   ]
  },
  {
   "cell_type": "code",
   "execution_count": 12,
   "id": "e377a492",
   "metadata": {},
   "outputs": [
    {
     "name": "stderr",
     "output_type": "stream",
     "text": [
      "C:\\Users\\prem1\\anaconda3\\lib\\site-packages\\seaborn\\_decorators.py:36: FutureWarning: Pass the following variable as a keyword arg: x. From version 0.12, the only valid positional argument will be `data`, and passing other arguments without an explicit keyword will result in an error or misinterpretation.\n",
      "  warnings.warn(\n"
     ]
    },
    {
     "data": {
      "image/png": "[encoded data removed]",
      "text/plain": [
       "<Figure size 600x400 with 1 Axes>"
      ]
     },
     "metadata": {},
     "output_type": "display_data"
    }
   ],
   "source": [
    "# Visualize spam frequencies.\n",
    "plt.figure(dpi=100)\n",
    "sns.countplot(mail_data[\"Category\"] == \"spam\")\n",
    "plt.title(\"Spam Freqencies\")\n",
    "plt.show()"
   ]
  },
  {
   "cell_type": "code",
   "execution_count": 13,
   "id": "572b7a64",
   "metadata": {},
   "outputs": [
    {
     "name": "stderr",
     "output_type": "stream",
     "text": [
      "C:\\Users\\prem1\\anaconda3\\lib\\site-packages\\seaborn\\_decorators.py:36: FutureWarning: Pass the following variable as a keyword arg: x. From version 0.12, the only valid positional argument will be `data`, and passing other arguments without an explicit keyword will result in an error or misinterpretation.\n",
      "  warnings.warn(\n"
     ]
    },
    {
     "data": {
      "image/png": "[encoded data removed]",
      "text/plain": [
       "<Figure size 600x400 with 1 Axes>"
      ]
     },
     "metadata": {},
     "output_type": "display_data"
    }
   ],
   "source": [
    "# Visualize ham frequencies.\n",
    "plt.figure(dpi=100)\n",
    "sns.countplot(mail_data[\"Category\"] == \"ham\")\n",
    "plt.title(\"ham Freqencies\")\n",
    "plt.show()"
   ]
  },
  {
   "cell_type": "code",
   "execution_count": 14,
   "id": "4d2c3afb",
   "metadata": {},
   "outputs": [
    {
     "data": {
      "image/png": "[encoded data removed]",
      "text/plain": [
       "<Figure size 576x432 with 1 Axes>"
      ]
     },
     "metadata": {},
     "output_type": "display_data"
    }
   ],
   "source": [
    "# Plotting pie chart.\n",
    "mail_data[\"Category\"].value_counts()\n",
    "\n",
    "# Plotting\n",
    "plt.figure(figsize=(8, 6))\n",
    "plt.pie(mail_data[\"Category\"].value_counts(), labels=mail_data[\"Category\"].value_counts().index, autopct='%1.1f%%', startangle=140)\n",
    "plt.title('Distribution of Spam and Non-Spam Emails')\n",
    "plt.axis('equal') \n",
    "plt.show()"
   ]
  },
  {
   "cell_type": "markdown",
   "id": "1d81456b",
   "metadata": {},
   "source": [
    "From the above graph we can see most emails in the dataset (86.6%) are non-spam (ham), while only a smaller portion (13.4%) are classified as spam. This difference is important because it affects how well our model can spot spam emails. "
   ]
  },
  {
   "cell_type": "code",
   "execution_count": null,
   "id": "099491e6",
   "metadata": {},
   "outputs": [],
   "source": [
    "# Marking spam category as 0.\n",
    "new_mail_data.loc[new_mail_data[\"Category\"] == \"spam\" ,\"Category\",] = 0"
   ]
  },
  {
   "cell_type": "code",
   "execution_count": null,
   "id": "a6138f00",
   "metadata": {},
   "outputs": [],
   "source": [
    "# Marking ham category as 1.\n",
    "new_mail_data.loc[new_mail_data[\"Category\"] == \"ham\" ,\"Category\",] = 1"
   ]
  },
  {
   "cell_type": "markdown",
   "id": "7803e594",
   "metadata": {},
   "source": [
    "Spam = 0\n",
    "Ham = 1"
   ]
  },
  {
   "cell_type": "markdown",
   "id": "94c8c9dc",
   "metadata": {},
   "source": [
    " Taking,"
   ]
  },
  {
   "cell_type": "markdown",
   "id": "a4b9b732",
   "metadata": {},
   "source": [
    " x axis = Messages as Input"
   ]
  },
  {
   "cell_type": "markdown",
   "id": "4afd9bd5",
   "metadata": {},
   "source": [
    "Y axis = Category as output"
   ]
  },
  {
   "cell_type": "code",
   "execution_count": null,
   "id": "69c3bd73",
   "metadata": {},
   "outputs": [],
   "source": [
    "# Seperating the data as text and labels.\n",
    "x = new_mail_data[\"Message\"]\n",
    "y = new_mail_data[\"Category\"]"
   ]
  },
  {
   "cell_type": "code",
   "execution_count": null,
   "id": "f51cf216",
   "metadata": {},
   "outputs": [],
   "source": [
    "print(x)"
   ]
  },
  {
   "cell_type": "code",
   "execution_count": null,
   "id": "7ffdc42e",
   "metadata": {},
   "outputs": [],
   "source": [
    "print(y)"
   ]
  },
  {
   "cell_type": "markdown",
   "id": "6ba15143",
   "metadata": {},
   "source": [
    "Splitting the data into training data and test data."
   ]
  },
  {
   "cell_type": "code",
   "execution_count": null,
   "id": "2eb352ab",
   "metadata": {},
   "outputs": [],
   "source": [
    "x_train, x_test, y_train, y_test = train_test_split(x,y,test_size=0.2,random_state=3)"
   ]
  },
  {
   "cell_type": "code",
   "execution_count": null,
   "id": "b3be5fed",
   "metadata": {},
   "outputs": [],
   "source": [
    "print(x.shape)\n",
    "print(x_train.shape)\n",
    "print(x_test.shape)\n"
   ]
  },
  {
   "cell_type": "markdown",
   "id": "024a3c34",
   "metadata": {},
   "source": [
    "Converting the text data into numerical values to understand by Logistic Regression."
   ]
  },
  {
   "cell_type": "code",
   "execution_count": null,
   "id": "32c5b215",
   "metadata": {},
   "outputs": [],
   "source": [
    "# TfidfVectorizer is used to generate scores for the repeated words.\n",
    "# stop_words=\"english\" will ignore the words which don't have a meaning eg., the,did etc.\n",
    "# lowercase=\"True\" will convert all the data in lowercase to ease the process.\n",
    "\n",
    "input_data = TfidfVectorizer(min_df = 1, stop_words=\"english\", lowercase=\"True\")\n",
    "\n",
    "# we have to perform fit_transformation only once with x_train_data.\n",
    "\n",
    "x_train_data = input_data.fit_transform(x_train)\n",
    "x_test_data = input_data.transform(x_test)\n",
    "\n",
    "# Converting y_train and y_test values into numerical values.\n",
    "# As 0 and 1 above(y) is not considered as integer, it is considered as objects or strings.\n",
    "\n",
    "y_train = y_train.astype(\"int\")\n",
    "y_test = y_test.astype(\"int\")\n",
    "\n",
    "\n",
    "\n"
   ]
  },
  {
   "cell_type": "code",
   "execution_count": null,
   "id": "9eb7db14",
   "metadata": {},
   "outputs": [],
   "source": [
    "# Printing the x_tarin values without transform.\n",
    "print(x_train)"
   ]
  },
  {
   "cell_type": "code",
   "execution_count": null,
   "id": "f3effb47",
   "metadata": {},
   "outputs": [],
   "source": [
    "# Printing the x_train_data values with transform.\n",
    "print(x_train_data)"
   ]
  },
  {
   "cell_type": "markdown",
   "id": "2d309f70",
   "metadata": {},
   "source": [
    "Training the Logistic Regression model"
   ]
  },
  {
   "cell_type": "code",
   "execution_count": null,
   "id": "bece03a9",
   "metadata": {},
   "outputs": [],
   "source": [
    "model = LogisticRegression()"
   ]
  },
  {
   "cell_type": "code",
   "execution_count": null,
   "id": "81b28546",
   "metadata": {},
   "outputs": [],
   "source": [
    "# Training the Logistic Regression model with the training data.\n",
    "model.fit(x_train_data,y_train)"
   ]
  },
  {
   "cell_type": "code",
   "execution_count": null,
   "id": "627d9ed4",
   "metadata": {},
   "outputs": [],
   "source": [
    "# Prediction on training data.\n",
    "prediction_on_training_data = model.predict(x_train_data)\n",
    "accuracy_on_training_data = accuracy_score(y_train, prediction_on_training_data)"
   ]
  },
  {
   "cell_type": "code",
   "execution_count": null,
   "id": "8161e8ec",
   "metadata": {},
   "outputs": [],
   "source": [
    "print(\"Accuracy on training data : \", accuracy_on_training_data)"
   ]
  },
  {
   "cell_type": "code",
   "execution_count": null,
   "id": "272be262",
   "metadata": {},
   "outputs": [],
   "source": [
    "# Prediction on test data.\n",
    "prediction_on_test_data = model.predict(x_test_data)\n",
    "accuracy_on_test_data = accuracy_score(y_test, prediction_on_test_data)"
   ]
  },
  {
   "cell_type": "code",
   "execution_count": null,
   "id": "05ddfc37",
   "metadata": {},
   "outputs": [],
   "source": [
    "print(\"Accuracy on test data : \", accuracy_on_test_data)"
   ]
  },
  {
   "cell_type": "markdown",
   "id": "239ad5c0",
   "metadata": {},
   "source": [
    "Making Prediction whether a email is Spam or Ham."
   ]
  },
  {
   "cell_type": "code",
   "execution_count": null,
   "id": "039a9c95",
   "metadata": {},
   "outputs": [],
   "source": [
    "input_mail = [\"I've been searching for the right words to thank you for this breather. I promise i wont take your help for granted and will fulfil my promise. You have been wonderful and a blessing at all times.\"]\n",
    "\n",
    "# Converting the text data into numerical values or feature vectors.\n",
    "input_mail_data = input_data.transform(input_mail)\n",
    "\n",
    "# Making the prediction.\n",
    "prediction = model.predict(input_mail_data)\n",
    "print(prediction)\n",
    "\n",
    "if prediction[0] == 1:\n",
    "    print(\"Email is Ham\")\n",
    "else:\n",
    "    print(\"Email is Spam\")"
   ]
  },
  {
   "cell_type": "code",
   "execution_count": null,
   "id": "e0ae869e",
   "metadata": {},
   "outputs": [],
   "source": []
  }
 ],
 "metadata": {
  "kernelspec": {
   "display_name": "Python 3 (ipykernel)",
   "language": "python",
   "name": "python3"
  },
  "language_info": {
   "codemirror_mode": {
    "name": "ipython",
    "version": 3
   },
   "file_extension": ".py",
   "mimetype": "text/x-python",
   "name": "python",
   "nbconvert_exporter": "python",
   "pygments_lexer": "ipython3",
   "version": "3.9.7"
  }
 },
 "nbformat": 4,
 "nbformat_minor": 5
}
